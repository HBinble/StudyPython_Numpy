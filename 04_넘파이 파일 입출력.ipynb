{
 "cells": [
  {
   "cell_type": "markdown",
   "metadata": {},
   "source": [
    "# Numpy 파일 입출력"
   ]
  },
  {
   "cell_type": "markdown",
   "metadata": {},
   "source": [
    "### 파일처리\n",
    "- ndarray의 정보를 파일로 저장할 수 있다.\n",
    "- 일반적인 파일 확장자는 npy를 사용한다.\n"
   ]
  },
  {
   "cell_type": "code",
   "execution_count": 12,
   "metadata": {},
   "outputs": [],
   "source": [
    "import numpy as np"
   ]
  },
  {
   "cell_type": "code",
   "execution_count": 13,
   "metadata": {},
   "outputs": [
    {
     "name": "stdout",
     "output_type": "stream",
     "text": [
      "[[-0.6698156   0.5319299   0.33781848  0.41690203 -0.72076394]\n",
      " [-0.45784303  1.10043234  1.10970876  0.68150958 -0.63271789]\n",
      " [-0.09859956 -0.56077755  0.79862102  0.47041968 -0.81301277]]\n"
     ]
    }
   ],
   "source": [
    "# 파일 저장(tofile)\n",
    "n = np.random.randn(3,5)\n",
    "print(n)\n",
    "n.tofile('n.npy')"
   ]
  },
  {
   "cell_type": "code",
   "execution_count": 14,
   "metadata": {},
   "outputs": [
    {
     "name": "stdout",
     "output_type": "stream",
     "text": [
      "[-0.6698156   0.5319299   0.33781848  0.41690203 -0.72076394 -0.45784303\n",
      "  1.10043234  1.10970876  0.68150958 -0.63271789 -0.09859956 -0.56077755\n",
      "  0.79862102  0.47041968 -0.81301277]\n"
     ]
    }
   ],
   "source": [
    "# 파일 불러오기(fromfile)\n",
    "m = np.fromfile('n.npy')\n",
    "print(m)"
   ]
  },
  {
   "cell_type": "code",
   "execution_count": 15,
   "metadata": {},
   "outputs": [
    {
     "name": "stdout",
     "output_type": "stream",
     "text": [
      "[-0.6698156   0.5319299   0.33781848  0.41690203 -0.72076394 -0.45784303\n",
      "  1.10043234  1.10970876  0.68150958 -0.63271789 -0.09859956 -0.56077755\n",
      "  0.79862102  0.47041968 -0.81301277]\n"
     ]
    }
   ],
   "source": [
    "m = np.fromfile('C:/STUDY/SutdyPython_Numpy/n.npy') # shape(3,5)\n",
    "print(m)"
   ]
  },
  {
   "cell_type": "code",
   "execution_count": 16,
   "metadata": {},
   "outputs": [
    {
     "name": "stdout",
     "output_type": "stream",
     "text": [
      "[[-0.6698156   0.5319299   0.33781848  0.41690203 -0.72076394]\n",
      " [-0.45784303  1.10043234  1.10970876  0.68150958 -0.63271789]\n",
      " [-0.09859956 -0.56077755  0.79862102  0.47041968 -0.81301277]]\n"
     ]
    }
   ],
   "source": [
    "# 파일 저장, 불러오기(np.save, np.load) # 행렬에 대한 정보도 가지고 있음\n",
    "np.save('n1.npy',n)\n",
    "m1 = np.load('n1.npy')\n",
    "print(m1)"
   ]
  },
  {
   "cell_type": "code",
   "execution_count": 17,
   "metadata": {},
   "outputs": [
    {
     "ename": "ValueError",
     "evalue": "Cannot load file containing pickled data when allow_pickle=False",
     "output_type": "error",
     "traceback": [
      "\u001b[1;31m---------------------------------------------------------------------------\u001b[0m",
      "\u001b[1;31mValueError\u001b[0m                                Traceback (most recent call last)",
      "\u001b[1;32mc:\\STUDY\\SutdyPython_Numpy\\04_넘파이 파일 입출력.ipynb Cell 8'\u001b[0m in \u001b[0;36m<cell line: 3>\u001b[1;34m()\u001b[0m\n\u001b[0;32m      <a href='vscode-notebook-cell:/c%3A/STUDY/SutdyPython_Numpy/04_%EB%84%98%ED%8C%8C%EC%9D%B4%20%ED%8C%8C%EC%9D%BC%20%EC%9E%85%EC%B6%9C%EB%A0%A5.ipynb#ch0000007?line=0'>1</a>\u001b[0m \u001b[39m# n.tofile -> n.npy\u001b[39;00m\n\u001b[0;32m      <a href='vscode-notebook-cell:/c%3A/STUDY/SutdyPython_Numpy/04_%EB%84%98%ED%8C%8C%EC%9D%B4%20%ED%8C%8C%EC%9D%BC%20%EC%9E%85%EC%B6%9C%EB%A0%A5.ipynb#ch0000007?line=1'>2</a>\u001b[0m \u001b[39m# np.load('n.npy')\u001b[39;00m\n\u001b[1;32m----> <a href='vscode-notebook-cell:/c%3A/STUDY/SutdyPython_Numpy/04_%EB%84%98%ED%8C%8C%EC%9D%B4%20%ED%8C%8C%EC%9D%BC%20%EC%9E%85%EC%B6%9C%EB%A0%A5.ipynb#ch0000007?line=2'>3</a>\u001b[0m np\u001b[39m.\u001b[39;49mload(\u001b[39m'\u001b[39;49m\u001b[39mn.npy\u001b[39;49m\u001b[39m'\u001b[39;49m)\n",
      "File \u001b[1;32mc:\\DEV\\Langs\\Python\\Python39\\lib\\site-packages\\numpy\\lib\\npyio.py:435\u001b[0m, in \u001b[0;36mload\u001b[1;34m(file, mmap_mode, allow_pickle, fix_imports, encoding)\u001b[0m\n\u001b[0;32m    <a href='file:///c%3A/DEV/Langs/Python/Python39/lib/site-packages/numpy/lib/npyio.py?line=431'>432</a>\u001b[0m \u001b[39melse\u001b[39;00m:\n\u001b[0;32m    <a href='file:///c%3A/DEV/Langs/Python/Python39/lib/site-packages/numpy/lib/npyio.py?line=432'>433</a>\u001b[0m     \u001b[39m# Try a pickle\u001b[39;00m\n\u001b[0;32m    <a href='file:///c%3A/DEV/Langs/Python/Python39/lib/site-packages/numpy/lib/npyio.py?line=433'>434</a>\u001b[0m     \u001b[39mif\u001b[39;00m \u001b[39mnot\u001b[39;00m allow_pickle:\n\u001b[1;32m--> <a href='file:///c%3A/DEV/Langs/Python/Python39/lib/site-packages/numpy/lib/npyio.py?line=434'>435</a>\u001b[0m         \u001b[39mraise\u001b[39;00m \u001b[39mValueError\u001b[39;00m(\u001b[39m\"\u001b[39m\u001b[39mCannot load file containing pickled data \u001b[39m\u001b[39m\"\u001b[39m\n\u001b[0;32m    <a href='file:///c%3A/DEV/Langs/Python/Python39/lib/site-packages/numpy/lib/npyio.py?line=435'>436</a>\u001b[0m                          \u001b[39m\"\u001b[39m\u001b[39mwhen allow_pickle=False\u001b[39m\u001b[39m\"\u001b[39m)\n\u001b[0;32m    <a href='file:///c%3A/DEV/Langs/Python/Python39/lib/site-packages/numpy/lib/npyio.py?line=436'>437</a>\u001b[0m     \u001b[39mtry\u001b[39;00m:\n\u001b[0;32m    <a href='file:///c%3A/DEV/Langs/Python/Python39/lib/site-packages/numpy/lib/npyio.py?line=437'>438</a>\u001b[0m         \u001b[39mreturn\u001b[39;00m pickle\u001b[39m.\u001b[39mload(fid, \u001b[39m*\u001b[39m\u001b[39m*\u001b[39mpickle_kwargs)\n",
      "\u001b[1;31mValueError\u001b[0m: Cannot load file containing pickled data when allow_pickle=False"
     ]
    }
   ],
   "source": [
    "# n.tofile -> n.npy\n",
    "# np.load('n.npy')\n",
    "np.load('n.npy') # Error 파일 저장형식이 다르기 때문!"
   ]
  },
  {
   "cell_type": "markdown",
   "metadata": {},
   "source": [
    "### 파일 처리\n",
    "- txt 파일 저장, 불러오기"
   ]
  },
  {
   "cell_type": "code",
   "execution_count": null,
   "metadata": {},
   "outputs": [],
   "source": [
    "# txt 파일 저장(np.savetxt)\n",
    "np.savetxt('n.txt',n)"
   ]
  },
  {
   "cell_type": "code",
   "execution_count": null,
   "metadata": {},
   "outputs": [
    {
     "data": {
      "text/plain": [
       "array([[ 0.67355834, -0.94162996, -0.12369967,  0.24027748, -0.07535178],\n",
       "       [ 0.12362399, -0.3317201 ,  0.05009873, -1.05700837, -1.15292173],\n",
       "       [ 0.36546796,  0.60684358, -0.16101157, -0.0778018 ,  0.28499247]])"
      ]
     },
     "execution_count": 22,
     "metadata": {},
     "output_type": "execute_result"
    }
   ],
   "source": [
    "# txt 파일 불러오기(np.loadtxt)\n",
    "np.loadtxt('n.txt')\n",
    "\n",
    "# np.loadtxt('./data/n.txt')"
   ]
  },
  {
   "cell_type": "code",
   "execution_count": null,
   "metadata": {},
   "outputs": [],
   "source": [
    "# csv 파일 저장, 불러오기\n",
    "\n",
    "np.savetxt('n.csv',n) # 확장자만 csv로 바꾸면 됨"
   ]
  },
  {
   "cell_type": "code",
   "execution_count": null,
   "metadata": {},
   "outputs": [],
   "source": [
    "np.savetxt('n.csv',n, delimiter = ',')"
   ]
  },
  {
   "cell_type": "code",
   "execution_count": null,
   "metadata": {},
   "outputs": [
    {
     "data": {
      "text/plain": [
       "array([['6.735583417926885863e-01', '-9.416299558623338894e-01',\n",
       "        '-1.236996661219502552e-01', '2.402774812598412191e-01',\n",
       "        '-7.535177641145704430e-02'],\n",
       "       ['1.236239862318083277e-01', '-3.317201042935186694e-01',\n",
       "        '5.009872996211604812e-02', '-1.057008369890093169e+00',\n",
       "        '-1.152921727883687186e+00'],\n",
       "       ['3.654679637584956065e-01', '6.068435844325968942e-01',\n",
       "        '-1.610115673040299067e-01', '-7.780180369190797807e-02',\n",
       "        '2.849924740007636070e-01']], dtype='<U25')"
      ]
     },
     "execution_count": 45,
     "metadata": {},
     "output_type": "execute_result"
    }
   ],
   "source": [
    "np.loadtxt('n.csv', delimiter= ',', dtype=str)"
   ]
  },
  {
   "cell_type": "code",
   "execution_count": null,
   "metadata": {},
   "outputs": [],
   "source": [
    "np.savetxt('n.csv',n, delimiter = '***')"
   ]
  },
  {
   "cell_type": "code",
   "execution_count": null,
   "metadata": {},
   "outputs": [
    {
     "data": {
      "text/plain": [
       "array([[ 0.67355834, -0.94162996, -0.12369967,  0.24027748, -0.07535178],\n",
       "       [ 0.12362399, -0.3317201 ,  0.05009873, -1.05700837, -1.15292173],\n",
       "       [ 0.36546796,  0.60684358, -0.16101157, -0.0778018 ,  0.28499247]])"
      ]
     },
     "execution_count": 42,
     "metadata": {},
     "output_type": "execute_result"
    }
   ],
   "source": [
    "np.loadtxt('n.csv', delimiter='***')"
   ]
  },
  {
   "cell_type": "code",
   "execution_count": null,
   "metadata": {},
   "outputs": [
    {
     "name": "stdout",
     "output_type": "stream",
     "text": [
      "[[ 1  2  3  4  5]\n",
      " [ 6  7  8  9 10]\n",
      " [11 12 13 14 15]\n",
      " [16 17 18 19 20]\n",
      " [21 22 23 24 25]]\n"
     ]
    }
   ],
   "source": [
    "# 문제1\n",
    "t1 = np.array(range(1,26)).reshape(5,5)\n",
    "print(t1)"
   ]
  },
  {
   "cell_type": "code",
   "execution_count": null,
   "metadata": {},
   "outputs": [],
   "source": [
    "np.savetxt('data.csv', t1, delimiter=',')"
   ]
  },
  {
   "cell_type": "code",
   "execution_count": null,
   "metadata": {},
   "outputs": [
    {
     "data": {
      "text/plain": [
       "array([[ 1.,  2.,  3.,  4.,  5.],\n",
       "       [ 6.,  7.,  8.,  9., 10.],\n",
       "       [11., 12., 13., 14., 15.],\n",
       "       [16., 17., 18., 19., 20.],\n",
       "       [21., 22., 23., 24., 25.]])"
      ]
     },
     "execution_count": 88,
     "metadata": {},
     "output_type": "execute_result"
    }
   ],
   "source": [
    "np.loadtxt('data.csv', delimiter=',')"
   ]
  },
  {
   "cell_type": "code",
   "execution_count": null,
   "metadata": {},
   "outputs": [
    {
     "name": "stdout",
     "output_type": "stream",
     "text": [
      "[['1' '15' '14' '4']\n",
      " ['12' '6' '7' '9']\n",
      " ['8' '10' '11' '5']\n",
      " ['13' '3' '2' '16']]\n"
     ]
    }
   ],
   "source": [
    "# 문제2\n",
    "arr1 = np.loadtxt('./data/06_data1.txt', dtype=str)\n",
    "print(arr1)"
   ]
  },
  {
   "cell_type": "code",
   "execution_count": null,
   "metadata": {},
   "outputs": [
    {
     "name": "stdout",
     "output_type": "stream",
     "text": [
      "[[ 1. 15. 14.  4.]\n",
      " [12.  6.  7.  9.]\n",
      " [ 8. 10. 11.  5.]\n",
      " [13.  3.  2. 16.]]\n"
     ]
    }
   ],
   "source": [
    "# 문제3\n",
    "arr2 = np.loadtxt('./data/06_data2.txt', delimiter=',')\n",
    "print(arr2)"
   ]
  },
  {
   "cell_type": "code",
   "execution_count": null,
   "metadata": {},
   "outputs": [
    {
     "data": {
      "text/plain": [
       "array([[ 1,  2,  3,  4,  5],\n",
       "       [ 6,  7,  8,  9, 10],\n",
       "       [11, 12, 13, 14, 15],\n",
       "       [16, 17, 18, 19, 20],\n",
       "       [21, 22, 23, 24, 25]], dtype=int8)"
      ]
     },
     "execution_count": 111,
     "metadata": {},
     "output_type": "execute_result"
    }
   ],
   "source": [
    "# 해설 정답\n",
    "# 문제1\n",
    "arr = np.arange(1,26, dtype=np.int8).reshape(5,5)\n",
    "arr"
   ]
  },
  {
   "cell_type": "code",
   "execution_count": null,
   "metadata": {},
   "outputs": [],
   "source": [
    "np.savetxt('data.csv', arr, delimiter=',')"
   ]
  },
  {
   "cell_type": "code",
   "execution_count": null,
   "metadata": {},
   "outputs": [
    {
     "data": {
      "text/plain": [
       "array([[ 1,  2,  3,  4,  5],\n",
       "       [ 6,  7,  8,  9, 10],\n",
       "       [11, 12, 13, 14, 15],\n",
       "       [16, 17, 18, 19, 20],\n",
       "       [21, 22, 23, 24, 25]], dtype=int8)"
      ]
     },
     "execution_count": 90,
     "metadata": {},
     "output_type": "execute_result"
    }
   ],
   "source": [
    "np.loadtxt('data.csv', delimiter=',', dtype=np.int8)"
   ]
  },
  {
   "cell_type": "code",
   "execution_count": null,
   "metadata": {},
   "outputs": [
    {
     "data": {
      "text/plain": [
       "array([['1', '15', '14', '4'],\n",
       "       ['12', '6', '7', '9'],\n",
       "       ['8', '10', '11', '5'],\n",
       "       ['13', '3', '2', '16']], dtype='<U2')"
      ]
     },
     "execution_count": 11,
     "metadata": {},
     "output_type": "execute_result"
    }
   ],
   "source": [
    "np.loadtxt('./data/06_data1.txt', dtype=np.str_)"
   ]
  },
  {
   "cell_type": "code",
   "execution_count": null,
   "metadata": {},
   "outputs": [
    {
     "data": {
      "text/plain": [
       "array([['1', '15', '14', '4'],\n",
       "       ['12', '6', '7', '9'],\n",
       "       ['8', '10', '11', '5'],\n",
       "       ['13', '3', '2', '16']], dtype='<U2')"
      ]
     },
     "execution_count": 10,
     "metadata": {},
     "output_type": "execute_result"
    }
   ],
   "source": [
    "np.loadtxt('./data/06_data1.txt', delimiter='\\t', dtype=np.str_)"
   ]
  },
  {
   "cell_type": "code",
   "execution_count": null,
   "metadata": {},
   "outputs": [],
   "source": [
    "arr2 = np.loadtxt('./data/06_data2.txt', delimiter=',', dtype=np.int8)"
   ]
  },
  {
   "cell_type": "code",
   "execution_count": null,
   "metadata": {},
   "outputs": [
    {
     "name": "stdout",
     "output_type": "stream",
     "text": [
      "[[ 1 15 14  4]\n",
      " [12  6  7  9]\n",
      " [ 8 10 11  5]\n",
      " [13  3  2 16]]\n"
     ]
    }
   ],
   "source": [
    "print(arr2)"
   ]
  },
  {
   "cell_type": "markdown",
   "metadata": {},
   "source": [
    "### 파일처리\n",
    "- 문제1) ex1 파일을 사용하여 데이터 처리"
   ]
  },
  {
   "cell_type": "code",
   "execution_count": 21,
   "metadata": {},
   "outputs": [
    {
     "name": "stdout",
     "output_type": "stream",
     "text": [
      "[[      1  565082     273   27177]\n",
      " [      2 2827233     444   45111]\n",
      " [      3 1144913     289   29043]\n",
      " [      4 1131034     230   22436]\n",
      " [      5  380425     391   38020]\n",
      " [      6  668623     364   35245]\n",
      " [      7  425659     344   32331]\n",
      " [      8  947300     366   36274]\n",
      " [      9 2737725     361   36569]\n",
      " [     10   49394     580   57091]\n",
      " [     11  323151     353   35470]\n",
      " [     12  734723     398   40049]\n",
      " [     13  726699     249   25120]\n",
      " [     14  634696     285   28556]\n",
      " [     15  258605     221   22180]\n",
      " [     16  742285     282   27901]\n",
      " [     17  584500     268   26899]]\n",
      "[[      1  565082     273   27177]\n",
      " [      2 2827233     444   45111]\n",
      " [      3 1144913     289   29043]\n",
      " [      4 1131034     230   22436]\n",
      " [      5  380425     391   38020]]\n"
     ]
    }
   ],
   "source": [
    "# 01. 파일 읽어오기\n",
    "\n",
    "data = np.loadtxt('./data/ex1_지역별전기요금.csv', delimiter=',', dtype=int)\n",
    "print(data)\n",
    "\n",
    "# 상위 5개 데이터 출력(data[row,col])\n",
    "\n",
    "print(data[:5,:]) "
   ]
  },
  {
   "cell_type": "code",
   "execution_count": 22,
   "metadata": {},
   "outputs": [
    {
     "name": "stdout",
     "output_type": "stream",
     "text": [
      "(17, 4)\n",
      "[ 1  2  3  4  5  6  7  8  9 10 11 12 13 14 15 16 17]\n"
     ]
    }
   ],
   "source": [
    "# 02. 데이터 확인하기\n",
    "\n",
    "# 데이터 모양 확인\n",
    "print(data.shape)\n",
    "\n",
    "# 중복 지역 확인\n",
    "print(np.unique(data[:,0]))"
   ]
  },
  {
   "cell_type": "code",
   "execution_count": 23,
   "metadata": {},
   "outputs": [
    {
     "name": "stdout",
     "output_type": "stream",
     "text": [
      "[ 9 14 10  4  6  0 16 13  5 12 11 15  7  3  2  8  1]\n",
      "[[     10   49394     580   57091]\n",
      " [     15  258605     221   22180]\n",
      " [     11  323151     353   35470]\n",
      " [      5  380425     391   38020]\n",
      " [      7  425659     344   32331]\n",
      " [      1  565082     273   27177]\n",
      " [     17  584500     268   26899]\n",
      " [     14  634696     285   28556]\n",
      " [      6  668623     364   35245]\n",
      " [     13  726699     249   25120]\n",
      " [     12  734723     398   40049]\n",
      " [     16  742285     282   27901]\n",
      " [      8  947300     366   36274]\n",
      " [      4 1131034     230   22436]\n",
      " [      3 1144913     289   29043]\n",
      " [      9 2737725     361   36569]\n",
      " [      2 2827233     444   45111]]\n"
     ]
    }
   ],
   "source": [
    "# 데이터의 크기순 정렬(argsort 사용)\n",
    "print(data[:,1].argsort())\n",
    "\n",
    "# fancy index\n",
    "print(data[data[:,1].argsort()])"
   ]
  },
  {
   "cell_type": "code",
   "execution_count": null,
   "metadata": {},
   "outputs": [
    {
     "name": "stdout",
     "output_type": "stream",
     "text": [
      "[[      1     273   27177  565082]\n",
      " [      2     444   45111 2827233]\n",
      " [      3     289   29043 1144913]\n",
      " [      4     230   22436 1131034]\n",
      " [      5     391   38020  380425]\n",
      " [      6     364   35245  668623]\n",
      " [      7     344   32331  425659]\n",
      " [      8     366   36274  947300]\n",
      " [      9     361   36569 2737725]\n",
      " [     10     580   49394   57091]\n",
      " [     11     353   35470  323151]\n",
      " [     12     398   40049  734723]\n",
      " [     13     249   25120  726699]\n",
      " [     14     285   28556  634696]\n",
      " [     15     221   22180  258605]\n",
      " [     16     282   27901  742285]\n",
      " [     17     268   26899  584500]]\n"
     ]
    }
   ],
   "source": [
    "print(np.sort(data)) # sort / argsort 한가지 행, 열에는 사용 / 2차원 배열에서는 사용 X"
   ]
  },
  {
   "cell_type": "code",
   "execution_count": 24,
   "metadata": {},
   "outputs": [
    {
     "name": "stdout",
     "output_type": "stream",
     "text": [
      "[ 1  8  2  3  7 15 11 12  5 13 16  0  6  4 10 14  9]\n",
      "[[      2 2827233     444   45111]\n",
      " [      9 2737725     361   36569]\n",
      " [      3 1144913     289   29043]\n",
      " [      4 1131034     230   22436]\n",
      " [      8  947300     366   36274]\n",
      " [     16  742285     282   27901]\n",
      " [     12  734723     398   40049]\n",
      " [     13  726699     249   25120]\n",
      " [      6  668623     364   35245]\n",
      " [     14  634696     285   28556]\n",
      " [     17  584500     268   26899]\n",
      " [      1  565082     273   27177]\n",
      " [      7  425659     344   32331]\n",
      " [      5  380425     391   38020]\n",
      " [     11  323151     353   35470]\n",
      " [     15  258605     221   22180]\n",
      " [     10   49394     580   57091]]\n"
     ]
    }
   ],
   "source": [
    "# 내림차순\n",
    "print(data[:,1].argsort()[::-1])\n",
    "\n",
    "print(data[data[:,1].argsort()[::-1]])"
   ]
  },
  {
   "cell_type": "code",
   "execution_count": 63,
   "metadata": {},
   "outputs": [
    {
     "name": "stdout",
     "output_type": "stream",
     "text": [
      "14882047\n",
      "14882047\n",
      "335.1764705882353\n",
      "335.18\n",
      "335.18\n"
     ]
    }
   ],
   "source": [
    "# 03.데이터 통계\n",
    "\n",
    "# 전국 대상 가구수의 합\n",
    "\n",
    "print(data[:,1].sum()) \n",
    "print(np.sum(data[:,1])) # 다른 표현\n",
    "\n",
    "# 가구당 평균 전력 사용량의 전국 평균값\n",
    "\n",
    "print(np.mean(data[:,2]))\n",
    "print(round(np.mean(data[:,2]),2))\n",
    "\n",
    "print(round(data[:,2].mean(),2)) #다른 표현"
   ]
  },
  {
   "cell_type": "code",
   "execution_count": 49,
   "metadata": {},
   "outputs": [
    {
     "name": "stdout",
     "output_type": "stream",
     "text": [
      "가구당 평균 전력 사용량의 전국 평균값 : 335.18\n"
     ]
    }
   ],
   "source": [
    "# 무식하게 평균 구하기\n",
    "e_sum = np.sum(data[:,2])\n",
    "e_sum\n",
    "\n",
    "n_rows = data.shape[0]\n",
    "n_rows\n",
    "\n",
    "print('가구당 평균 전력 사용량의 전국 평균값 :', round(e_sum/n_rows , 2))"
   ]
  },
  {
   "cell_type": "code",
   "execution_count": 51,
   "metadata": {},
   "outputs": [
    {
     "name": "stdout",
     "output_type": "stream",
     "text": [
      "[[      2 2827233]\n",
      " [      5  380425]\n",
      " [      6  668623]\n",
      " [      7  425659]\n",
      " [      8  947300]\n",
      " [      9 2737725]\n",
      " [     10   49394]\n",
      " [     11  323151]\n",
      " [     12  734723]]\n"
     ]
    }
   ],
   "source": [
    "# 가구당 평균 전력 사용량이 평균 이상인 지역과 대상 가구수 추출\n",
    "avg_ = data[:,2].mean() # 가구당 평균 전력 사용량의 전국 평균\n",
    "\n",
    "\n",
    "print(data[data[:,2]>avg_, 0:2])\n"
   ]
  },
  {
   "cell_type": "code",
   "execution_count": 64,
   "metadata": {},
   "outputs": [
    {
     "data": {
      "text/plain": [
       "335.1764705882353"
      ]
     },
     "execution_count": 64,
     "metadata": {},
     "output_type": "execute_result"
    }
   ],
   "source": [
    "avg_ = np.mean(data[:,2])\n",
    "avg_"
   ]
  },
  {
   "cell_type": "code",
   "execution_count": 65,
   "metadata": {},
   "outputs": [
    {
     "name": "stdout",
     "output_type": "stream",
     "text": [
      "[[      2 2827233]\n",
      " [      5  380425]\n",
      " [      6  668623]\n",
      " [      7  425659]\n",
      " [      8  947300]\n",
      " [      9 2737725]\n",
      " [     10   49394]\n",
      " [     11  323151]\n",
      " [     12  734723]]\n"
     ]
    }
   ],
   "source": [
    "print(data[data[:,2] > avg_, 0:2])"
   ]
  },
  {
   "cell_type": "markdown",
   "metadata": {},
   "source": [
    "# 파일처리(문제)\n",
    "- 문제2) ex2_전년대비_시도별_교통사망사고.csv"
   ]
  },
  {
   "cell_type": "markdown",
   "metadata": {},
   "source": [
    "### [문제1] 위 파일을 읽어보고 상위 3개의 (발생년도, 발생건수, 구성비)의 데이터를 추출해 봅시다."
   ]
  },
  {
   "cell_type": "code",
   "execution_count": 155,
   "metadata": {},
   "outputs": [
    {
     "name": "stdout",
     "output_type": "stream",
     "text": [
      "[[2014    2  872   19]\n",
      " [2014    4  464   10]\n",
      " [2014    3  401    8]]\n"
     ]
    }
   ],
   "source": [
    "acc_data = np.loadtxt('./data/ex2_전년대비_시도별_교통사망사고.csv', delimiter=',', dtype=np.int32)\n",
    "\n",
    "acc_data[:,2].argsort()\n",
    "max_acc = acc_data[acc_data[:,2].argsort()[::-1]]\n",
    "\n",
    "print(max_acc[:3,0:4])"
   ]
  },
  {
   "cell_type": "markdown",
   "metadata": {},
   "source": [
    "### [문제2] 위 데이터에서 부산에서 발생한 교통사망사고 모든 현황을 추출해 봅시다.\n"
   ]
  },
  {
   "cell_type": "code",
   "execution_count": 97,
   "metadata": {},
   "outputs": [
    {
     "name": "stdout",
     "output_type": "stream",
     "text": [
      "부산에서 발생한 교통사망사고 현황 : [2014    8  163    3  -47  -22]\n"
     ]
    }
   ],
   "source": [
    "print('부산에서 발생한 교통사망사고 현황 :', acc_data[7,:])"
   ]
  },
  {
   "cell_type": "markdown",
   "metadata": {},
   "source": [
    "### [문제3] 위 데이터에서 전국 사고 발생건수의 합계와 전국 평균을 계산해 봅시다."
   ]
  },
  {
   "cell_type": "code",
   "execution_count": 106,
   "metadata": {},
   "outputs": [
    {
     "name": "stdout",
     "output_type": "stream",
     "text": [
      "전국 사고 발생건수의 합계 : 4583 건\n",
      "전국 사고 발생건수의 평균 : 269.59 건\n"
     ]
    }
   ],
   "source": [
    "print('전국 사고 발생건수의 합계 :' , np.sum(acc_data[:,2]), '건')\n",
    "print('전국 사고 발생건수의 평균 :', round(np.mean(acc_data[:,2]),2), '건')"
   ]
  },
  {
   "cell_type": "markdown",
   "metadata": {},
   "source": [
    "### [문제4] 위 데이터에서 교통사고 증감수가 가장 큰 지역의 모든 현황을 추출해 봅시다."
   ]
  },
  {
   "cell_type": "code",
   "execution_count": 125,
   "metadata": {},
   "outputs": [
    {
     "name": "stdout",
     "output_type": "stream",
     "text": [
      "증감수가 가장 큰 지역 : 대구 [2014    6  182    4   19   11]\n"
     ]
    }
   ],
   "source": [
    "max_Num = acc_data[np.argmax(acc_data[:,4])]\n",
    "\n",
    "print('증감수가 가장 큰 지역 : 대구', max_Num)"
   ]
  },
  {
   "cell_type": "markdown",
   "metadata": {},
   "source": [
    "### [문제5] 위 데이터에서 교통사고 증감률이 가장 작은 지역의 모든 현황을 추출해 봅시다."
   ]
  },
  {
   "cell_type": "code",
   "execution_count": 130,
   "metadata": {},
   "outputs": [
    {
     "name": "stdout",
     "output_type": "stream",
     "text": [
      "증감수가 가장 작은 지역 부산: [2014    8  163    3  -47  -22]\n"
     ]
    }
   ],
   "source": [
    "min_Rate = acc_data[np.argmin(acc_data[:,5])]\n",
    "\n",
    "print('증감수가 가장 작은 지역 부산:', min_Rate)"
   ]
  },
  {
   "cell_type": "markdown",
   "metadata": {},
   "source": [
    "### [문제6] 위 데이터에서 사고 발생 건수가 400건 이상인 곳의 지역과 교통사고 발생건수, 증감수, 증감률을 추출해 봅시다."
   ]
  },
  {
   "cell_type": "code",
   "execution_count": 142,
   "metadata": {},
   "outputs": [
    {
     "name": "stdout",
     "output_type": "stream",
     "text": [
      "[[2014    2  872   19  -45   -4]\n",
      " [2014    3  401    8  -45  -10]\n",
      " [2014    4  464   10  -41   -8]\n",
      " [2014   13  400    8  -35   -8]]\n"
     ]
    }
   ],
   "source": [
    "print(acc_data[acc_data[:,2] >= 400])"
   ]
  },
  {
   "cell_type": "markdown",
   "metadata": {},
   "source": [
    "# 문제 해답"
   ]
  },
  {
   "cell_type": "code",
   "execution_count": 151,
   "metadata": {},
   "outputs": [
    {
     "name": "stdout",
     "output_type": "stream",
     "text": [
      "[[2014.   218.     4.8]\n",
      " [2014.   872.    19. ]\n",
      " [2014.   401.     8.7]]\n"
     ]
    }
   ],
   "source": [
    "# 문제 1\n",
    "data = np.loadtxt('./data/ex2_전년대비_시도별_교통사망사고.csv', delimiter=',', dtype=float)\n",
    "\n",
    "data.shape\n",
    "\n",
    "np.unique(data[:,1])\n",
    "\n",
    "print(data[:3,[0,2,3]])\n"
   ]
  },
  {
   "cell_type": "code",
   "execution_count": 160,
   "metadata": {},
   "outputs": [
    {
     "name": "stdout",
     "output_type": "stream",
     "text": [
      "[2014.     8.   163.     3.6  -47.   -22.4]\n",
      "[[2014.     8.   163.     3.6  -47.   -22.4]]\n"
     ]
    }
   ],
   "source": [
    "# 문제 2\n",
    "data[7, 1:]\n",
    "\n",
    "print(data[7])\n",
    "\n",
    "data[data[:,1] == 8]\n",
    "\n",
    "print(data[data[:,1] == 8])"
   ]
  },
  {
   "cell_type": "code",
   "execution_count": 164,
   "metadata": {},
   "outputs": [
    {
     "name": "stdout",
     "output_type": "stream",
     "text": [
      "전국 사고 발생건수의 합계 : 4583.0 건\n",
      "전국 사고 발생건수의 평균 : 269.588 건\n"
     ]
    }
   ],
   "source": [
    "# 문제 3\n",
    "print('전국 사고 발생건수의 합계 :' , data[:,2].sum(), '건')\n",
    "print('전국 사고 발생건수의 평균 :', round(data[:,2].mean(),3), '건')"
   ]
  },
  {
   "cell_type": "code",
   "execution_count": 171,
   "metadata": {},
   "outputs": [
    {
     "name": "stdout",
     "output_type": "stream",
     "text": [
      "[[2014.     6.   182.     4.    19.    11.7]]\n",
      "[2014.     6.   182.     4.    19.    11.7]\n"
     ]
    }
   ],
   "source": [
    "# 문제 4\n",
    "\n",
    "# 방법1\n",
    "max(data[:,4])\n",
    "print(data[data[:,4] == max(data[:,4])])\n",
    "\n",
    "# 방법2\n",
    "np.argmax(data[:,4])\n",
    "print(data[np.argmax(data[:,4])])\n",
    "\n"
   ]
  },
  {
   "cell_type": "code",
   "execution_count": 174,
   "metadata": {},
   "outputs": [
    {
     "name": "stdout",
     "output_type": "stream",
     "text": [
      "[[2014.     8.   163.     3.6  -47.   -22.4]]\n",
      "[2014.     8.   163.     3.6  -47.   -22.4]\n"
     ]
    }
   ],
   "source": [
    "# 문제 5\n",
    "\n",
    "# 방법 1\n",
    "min(data[:,5])\n",
    "print(data[data[:,5] == min(data[:,5])])\n",
    "\n",
    "# 방법2\n",
    "print(data[np.argmin(data[:,5])])"
   ]
  },
  {
   "cell_type": "code",
   "execution_count": 189,
   "metadata": {},
   "outputs": [
    {
     "name": "stdout",
     "output_type": "stream",
     "text": [
      "[[  2.  872.  -45.   -4.9]\n",
      " [  3.  401.  -45.  -10.1]\n",
      " [  4.  464.  -41.   -8.1]\n",
      " [ 13.  400.  -35.   -8. ]]\n",
      "[[  2.  872.  -45.   -4.9]\n",
      " [  3.  401.  -45.  -10.1]\n",
      " [  4.  464.  -41.   -8.1]\n",
      " [ 13.  400.  -35.   -8. ]]\n"
     ]
    }
   ],
   "source": [
    "# 문제 6\n",
    "\n",
    "data2 = data[data[:,2] >= 400]\n",
    "data2\n",
    "# 1,2,4,5 만 추출\n",
    "print(data2[ : , [1,2,4,5]])\n",
    "\n",
    "print(data[data[:,2] >= 400][:,[1,2,4,5]])"
   ]
  }
 ],
 "metadata": {
  "interpreter": {
   "hash": "38ae1ba9371524da054e8e3fbefd778d16b5a8ac7937a3f395010f627bb73919"
  },
  "kernelspec": {
   "display_name": "Python 3 (ipykernel)",
   "language": "python",
   "name": "python3"
  },
  "language_info": {
   "codemirror_mode": {
    "name": "ipython",
    "version": 3
   },
   "file_extension": ".py",
   "mimetype": "text/x-python",
   "name": "python",
   "nbconvert_exporter": "python",
   "pygments_lexer": "ipython3",
   "version": "3.9.12"
  }
 },
 "nbformat": 4,
 "nbformat_minor": 2
}
