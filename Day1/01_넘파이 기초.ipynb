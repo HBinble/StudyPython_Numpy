{
 "cells": [
  {
   "cell_type": "markdown",
   "id": "ef186a45",
   "metadata": {},
   "source": [
    "### Numpy Start"
   ]
  },
  {
   "cell_type": "code",
   "execution_count": 3,
   "id": "e5994f5e",
   "metadata": {},
   "outputs": [],
   "source": [
    "import numpy as np"
   ]
  },
  {
   "cell_type": "code",
   "execution_count": 4,
   "id": "31119085",
   "metadata": {},
   "outputs": [
    {
     "data": {
      "text/plain": [
       "array(1)"
      ]
     },
     "execution_count": 4,
     "metadata": {},
     "output_type": "execute_result"
    }
   ],
   "source": [
    "a = np.array(1)\n",
    "a"
   ]
  },
  {
   "cell_type": "code",
   "execution_count": 5,
   "id": "b9f03bec",
   "metadata": {},
   "outputs": [
    {
     "name": "stdout",
     "output_type": "stream",
     "text": [
      "[1 2 3]\n"
     ]
    }
   ],
   "source": [
    "ndarr_1 = np.array([1,2,3])\n",
    "print(ndarr_1)"
   ]
  },
  {
   "cell_type": "code",
   "execution_count": 6,
   "id": "1345178c",
   "metadata": {},
   "outputs": [
    {
     "name": "stdout",
     "output_type": "stream",
     "text": [
      "[1. 2. 3.]\n"
     ]
    }
   ],
   "source": [
    "ndarr_2 = np.array([1,2.0,3]) #float 형식\n",
    "print(ndarr_2)"
   ]
  },
  {
   "cell_type": "code",
   "execution_count": 7,
   "id": "98ef529f",
   "metadata": {},
   "outputs": [
    {
     "name": "stdout",
     "output_type": "stream",
     "text": [
      "['1' '2.0' '3']\n"
     ]
    }
   ],
   "source": [
    "ndarr_3 = np.array([1,2.0,'3'])\n",
    "print(ndarr_3)"
   ]
  },
  {
   "cell_type": "markdown",
   "id": "e29d8626",
   "metadata": {},
   "source": [
    "### 배열의 정보 확인"
   ]
  },
  {
   "cell_type": "code",
   "execution_count": 8,
   "id": "034178c3",
   "metadata": {
    "scrolled": true
   },
   "outputs": [
    {
     "name": "stdout",
     "output_type": "stream",
     "text": [
      "int32\n",
      "float64\n",
      "<U32\n"
     ]
    }
   ],
   "source": [
    "#ndarray.dtype (자료형 확인 속성)\n",
    "print(ndarr_1.dtype)\n",
    "print(ndarr_2.dtype)\n",
    "print(ndarr_3.dtype)"
   ]
  },
  {
   "cell_type": "code",
   "execution_count": 9,
   "id": "f62cf7c6",
   "metadata": {},
   "outputs": [
    {
     "name": "stdout",
     "output_type": "stream",
     "text": [
      "complex128\n",
      "object\n"
     ]
    }
   ],
   "source": [
    "print(np.array(1 + 2j).dtype)\n",
    "print(np.array(print).dtype)"
   ]
  },
  {
   "cell_type": "markdown",
   "id": "34507e88",
   "metadata": {},
   "source": [
    "### 자료형 지정"
   ]
  },
  {
   "cell_type": "code",
   "execution_count": 10,
   "id": "4ef844b5",
   "metadata": {},
   "outputs": [
    {
     "name": "stdout",
     "output_type": "stream",
     "text": [
      "int8\n"
     ]
    }
   ],
   "source": [
    "dtype1 = np.array([1,2,3],dtype=np.int8)\n",
    "print(dtype1.dtype)"
   ]
  },
  {
   "cell_type": "code",
   "execution_count": 11,
   "id": "7c64150b",
   "metadata": {},
   "outputs": [
    {
     "name": "stdout",
     "output_type": "stream",
     "text": [
      "float64\n"
     ]
    }
   ],
   "source": [
    "dtype2 = np.array([1,2,3],dtype=float)\n",
    "print(dtype2.dtype)"
   ]
  },
  {
   "cell_type": "code",
   "execution_count": 12,
   "id": "dfd02197",
   "metadata": {
    "scrolled": false
   },
   "outputs": [
    {
     "name": "stdout",
     "output_type": "stream",
     "text": [
      "<U1\n"
     ]
    }
   ],
   "source": [
    "dtype3 = np.array([1,2,3],dtype=str)\n",
    "print(dtype3.dtype)"
   ]
  },
  {
   "cell_type": "markdown",
   "id": "520f1fd1",
   "metadata": {},
   "source": [
    "- 주의해야할 점"
   ]
  },
  {
   "cell_type": "code",
   "execution_count": 13,
   "id": "72934ec6",
   "metadata": {},
   "outputs": [
    {
     "name": "stdout",
     "output_type": "stream",
     "text": [
      "[1 2 3]\n",
      "int32\n"
     ]
    }
   ],
   "source": [
    "dtype4 = np.array([1,2,3],dtype=int)\n",
    "print(dtype4)\n",
    "print(dtype4.dtype)"
   ]
  },
  {
   "cell_type": "code",
   "execution_count": 14,
   "id": "2ab7cb72",
   "metadata": {},
   "outputs": [
    {
     "ename": "ValueError",
     "evalue": "could not convert string to float: 'data'",
     "output_type": "error",
     "traceback": [
      "\u001b[1;31m---------------------------------------------------------------------------\u001b[0m",
      "\u001b[1;31mValueError\u001b[0m                                Traceback (most recent call last)",
      "\u001b[1;32mc:\\STUDY\\SutdyPython_Numpy\\Day1\\01_넘파이 기초.ipynb Cell 16'\u001b[0m in \u001b[0;36m<cell line: 1>\u001b[1;34m()\u001b[0m\n\u001b[1;32m----> <a href='vscode-notebook-cell:/c%3A/STUDY/SutdyPython_Numpy/Day1/01_%EB%84%98%ED%8C%8C%EC%9D%B4%20%EA%B8%B0%EC%B4%88.ipynb#ch0000015?line=0'>1</a>\u001b[0m dtype5 \u001b[39m=\u001b[39m np\u001b[39m.\u001b[39;49marray([\u001b[39m1\u001b[39;49m,\u001b[39m'\u001b[39;49m\u001b[39mdata\u001b[39;49m\u001b[39m'\u001b[39;49m,\u001b[39mprint\u001b[39;49m],dtype\u001b[39m=\u001b[39;49m\u001b[39mfloat\u001b[39;49m)\n\u001b[0;32m      <a href='vscode-notebook-cell:/c%3A/STUDY/SutdyPython_Numpy/Day1/01_%EB%84%98%ED%8C%8C%EC%9D%B4%20%EA%B8%B0%EC%B4%88.ipynb#ch0000015?line=1'>2</a>\u001b[0m \u001b[39mprint\u001b[39m(dtype5\u001b[39m.\u001b[39mdtype)\n",
      "\u001b[1;31mValueError\u001b[0m: could not convert string to float: 'data'"
     ]
    }
   ],
   "source": [
    "dtype5 = np.array([1,'data',print],dtype=float)\n",
    "print(dtype5.dtype)"
   ]
  },
  {
   "cell_type": "markdown",
   "id": "6f962868",
   "metadata": {},
   "source": [
    "### 배열의 정보 확인"
   ]
  },
  {
   "cell_type": "code",
   "execution_count": null,
   "id": "879940fb",
   "metadata": {},
   "outputs": [
    {
     "name": "stdout",
     "output_type": "stream",
     "text": [
      "(3,)\n"
     ]
    }
   ],
   "source": [
    "# 배열 크기 확인\n",
    "# ndarray.shape\n",
    "print(ndarr_1.shape)"
   ]
  },
  {
   "cell_type": "code",
   "execution_count": null,
   "id": "b83982f3",
   "metadata": {
    "scrolled": true
   },
   "outputs": [
    {
     "name": "stdout",
     "output_type": "stream",
     "text": [
      "1\n"
     ]
    }
   ],
   "source": [
    "# 배열 차원 확인\n",
    "# ndarray.ndim\n",
    "print(ndarr_1.ndim)"
   ]
  },
  {
   "cell_type": "markdown",
   "id": "95aea89a",
   "metadata": {},
   "source": [
    "### N차원 배열\n",
    "- Scalar : 숫자\n",
    "- Vector : scalar의 배열, 1차원 배열\n",
    "- Matrix : vector의 배열, 2차원 배열\n",
    "- Tensor : matrix의 배열, 3차원 배열 이상"
   ]
  },
  {
   "cell_type": "markdown",
   "id": "aa2766fb",
   "metadata": {},
   "source": [
    "- 배열생성\n"
   ]
  },
  {
   "cell_type": "code",
   "execution_count": null,
   "id": "cf6d4e7d",
   "metadata": {},
   "outputs": [
    {
     "name": "stdout",
     "output_type": "stream",
     "text": [
      "[1 2 3]\n",
      "(3,)\n",
      "1\n",
      "int32\n"
     ]
    }
   ],
   "source": [
    "# 1차원 배열 생성\n",
    "vector = np.array([1,2,3])\n",
    "\n",
    "print(vecter)       # 값\n",
    "print(vecter.shape) # 크기\n",
    "print(vecter.ndim)  # 차원\n",
    "print(vecter.dtype) # 타입"
   ]
  },
  {
   "cell_type": "code",
   "execution_count": null,
   "id": "9dfc8a48",
   "metadata": {},
   "outputs": [
    {
     "name": "stdout",
     "output_type": "stream",
     "text": [
      "[[1 2 3]\n",
      " [4 5 6]]\n",
      "(2, 3)\n",
      "2\n",
      "int32\n"
     ]
    }
   ],
   "source": [
    "# 2차원 배열 생성\n",
    "matrix = np.array([[1,2,3],[4,5,6]])\n",
    "\n",
    "print(matrix)       # 값\n",
    "print(matrix.shape) # 크기\n",
    "print(matrix.ndim)  # 차원\n",
    "print(matrix.dtype) # 타입"
   ]
  },
  {
   "cell_type": "code",
   "execution_count": null,
   "id": "641c7fb1",
   "metadata": {},
   "outputs": [
    {
     "name": "stdout",
     "output_type": "stream",
     "text": [
      "[[[ 1  2  3]\n",
      "  [ 4  5  6]]\n",
      "\n",
      " [[ 7  8  9]\n",
      "  [10 11 12]]]\n",
      "(2, 2, 3)\n",
      "3\n",
      "int32\n"
     ]
    }
   ],
   "source": [
    "# 3차원 배열 생성\n",
    "tensor = np.array([[[1,2,3],[4,5,6]],[[7,8,9],[10,11,12]]])\n",
    "\n",
    "print(tensor)       # 값\n",
    "print(tensor.shape) # 크기\n",
    "print(tensor.ndim)  # 차원\n",
    "print(tensor.dtype) # 타입"
   ]
  },
  {
   "cell_type": "markdown",
   "id": "c180d312",
   "metadata": {},
   "source": [
    "### 배열의 정보 확인"
   ]
  },
  {
   "cell_type": "code",
   "execution_count": null,
   "id": "d131e235",
   "metadata": {},
   "outputs": [
    {
     "name": "stdout",
     "output_type": "stream",
     "text": [
      "12\n"
     ]
    }
   ],
   "source": [
    "print(tensor.size)"
   ]
  },
  {
   "cell_type": "code",
   "execution_count": null,
   "id": "7f6fd3ba",
   "metadata": {},
   "outputs": [
    {
     "name": "stdout",
     "output_type": "stream",
     "text": [
      "[[1 2 3]\n",
      " [2 4 6]\n",
      " [3 6 9]]\n",
      "2\n",
      "9\n",
      "(3, 3)\n"
     ]
    }
   ],
   "source": [
    "# 연습문제\n",
    "arr = np.array([[1,2,3],[2,4,6],[3,6,9]])\n",
    "print(arr)\n",
    "print(arr.ndim)\n",
    "print(arr.size)\n",
    "print(arr.shape)"
   ]
  },
  {
   "cell_type": "markdown",
   "id": "bccd70f0",
   "metadata": {},
   "source": [
    "### 자료형 변환(리스트)"
   ]
  },
  {
   "cell_type": "code",
   "execution_count": null,
   "id": "3706edd5",
   "metadata": {},
   "outputs": [
    {
     "name": "stdout",
     "output_type": "stream",
     "text": [
      "[1 2 3]\n"
     ]
    }
   ],
   "source": [
    "# 리스트 -> ndarray 변환\n",
    "list1 = [1,2,3]\n",
    "arr1 = np.array(list1)\n",
    "print(arr1)"
   ]
  },
  {
   "cell_type": "code",
   "execution_count": null,
   "id": "48a0e5b5",
   "metadata": {},
   "outputs": [
    {
     "name": "stdout",
     "output_type": "stream",
     "text": [
      "[1, 2, 3]\n"
     ]
    }
   ],
   "source": [
    "# ndarray -> 리스트 변환\n",
    "list2 = [1,2,3]\n",
    "arr2 = np.array(list2)\n",
    "print(list2)"
   ]
  },
  {
   "cell_type": "code",
   "execution_count": null,
   "id": "f76b96c3",
   "metadata": {},
   "outputs": [
    {
     "name": "stdout",
     "output_type": "stream",
     "text": [
      "[[1 2 3]\n",
      " [4 5 6]]\n"
     ]
    }
   ],
   "source": [
    "# 2차원 리스트 변환\n",
    "list3 = [[1,2,3], [4,5,6]]\n",
    "arr3 = np.array(list3)\n",
    "print(arr3)"
   ]
  },
  {
   "cell_type": "code",
   "execution_count": null,
   "id": "4c1cfcda",
   "metadata": {},
   "outputs": [
    {
     "name": "stdout",
     "output_type": "stream",
     "text": [
      "[list([1, 2, 3, 4]) list([5, 6, 7])]\n",
      "2 (2,) 1\n"
     ]
    },
    {
     "name": "stderr",
     "output_type": "stream",
     "text": [
      "C:\\Users\\admin\\AppData\\Local\\Temp\\ipykernel_6604\\2411403213.py:3: VisibleDeprecationWarning: Creating an ndarray from ragged nested sequences (which is a list-or-tuple of lists-or-tuples-or ndarrays with different lengths or shapes) is deprecated. If you meant to do this, you must specify 'dtype=object' when creating the ndarray.\n",
      "  arr4 = np.array(list4)\n"
     ]
    }
   ],
   "source": [
    "# shape이 다른 리스트인 경우(주의해야할 점)\n",
    "list4 = [[1,2,3,4],[5,6,7]]\n",
    "arr4 = np.array(list4)\n",
    "print(arr4)\n",
    "print(arr4.size, arr4.shape, arr4.ndim)"
   ]
  },
  {
   "cell_type": "markdown",
   "id": "8a2767a8",
   "metadata": {},
   "source": [
    "### 자료형 변환(튜플) - 리스트와 동일"
   ]
  },
  {
   "cell_type": "code",
   "execution_count": null,
   "id": "b5f87ffe",
   "metadata": {},
   "outputs": [
    {
     "name": "stdout",
     "output_type": "stream",
     "text": [
      "[1 2 3]\n"
     ]
    }
   ],
   "source": [
    "# 튜플 -> ndarray 변환\n",
    "tuple1 = (1,2,3)\n",
    "arr = np.array(tuple1)\n",
    "print(arr)"
   ]
  },
  {
   "cell_type": "code",
   "execution_count": null,
   "id": "29fa66e0",
   "metadata": {},
   "outputs": [
    {
     "name": "stdout",
     "output_type": "stream",
     "text": [
      "[1 2 3]\n"
     ]
    }
   ],
   "source": [
    "# ndarray -> 튜플 변환\n",
    "arr2 = np.array([1,2,3])\n",
    "tuple2 = tuple(arr2)\n",
    "print(arr2)"
   ]
  },
  {
   "cell_type": "markdown",
   "id": "3a0b4e7e",
   "metadata": {},
   "source": [
    "### 자료형 변환(세트, 딕셔너리)"
   ]
  },
  {
   "cell_type": "code",
   "execution_count": 15,
   "id": "501f39f0",
   "metadata": {},
   "outputs": [
    {
     "name": "stdout",
     "output_type": "stream",
     "text": [
      "{1, 2, 3} 1 ()\n"
     ]
    }
   ],
   "source": [
    "# 세트 변환\n",
    "set1 = {1,2,3}\n",
    "arr = np.array(set1)\n",
    "print(arr, arr.size, arr.shape)"
   ]
  },
  {
   "cell_type": "code",
   "execution_count": null,
   "id": "aa145186",
   "metadata": {},
   "outputs": [
    {
     "name": "stdout",
     "output_type": "stream",
     "text": [
      "{'a': 1, 'b': 2, 'c': 3}\n"
     ]
    }
   ],
   "source": [
    "# 딕셔너리 변환\n",
    "dict1 = {'a':1,'b':2,'c':3}\n",
    "arr= np.array(dict1)\n",
    "print(arr)"
   ]
  },
  {
   "cell_type": "code",
   "execution_count": null,
   "id": "b428045e",
   "metadata": {},
   "outputs": [
    {
     "name": "stdout",
     "output_type": "stream",
     "text": [
      "{1, 2, 3} 1 ()\n"
     ]
    }
   ],
   "source": [
    "set1 = {1,2,3}\n",
    "arr = np.array(set1)\n",
    "print(arr, arr.size, arr.shape)"
   ]
  },
  {
   "cell_type": "markdown",
   "id": "dfda07aa",
   "metadata": {},
   "source": [
    "### 인덱싱"
   ]
  },
  {
   "cell_type": "code",
   "execution_count": null,
   "id": "b5691571",
   "metadata": {},
   "outputs": [
    {
     "name": "stdout",
     "output_type": "stream",
     "text": [
      "1\n",
      "4\n",
      "7\n"
     ]
    }
   ],
   "source": [
    "list_ = [[[1,2],[3,4]],[[5,6],[7,8]]]\n",
    "\n",
    "# 1가져오기\n",
    "print(list_[0][0][0])\n",
    "# 4가져오기\n",
    "print(list_[0][1][1])\n",
    "# 7가져오기\n",
    "print(list_[1][1][0])"
   ]
  },
  {
   "cell_type": "code",
   "execution_count": null,
   "id": "dc599c56",
   "metadata": {},
   "outputs": [
    {
     "name": "stdout",
     "output_type": "stream",
     "text": [
      "[[[1 2]\n",
      "  [3 4]]\n",
      "\n",
      " [[5 6]\n",
      "  [7 8]]]\n",
      "1\n",
      "4\n",
      "7\n"
     ]
    }
   ],
   "source": [
    "arr_ = np.array([[[1,2],[3,4]],[[5,6],[7,8]]])\n",
    "print(arr_)\n",
    "# 1가져오기\n",
    "print(arr_[0][0][0])\n",
    "# 4가져오기\n",
    "print(arr_[0][1][1])\n",
    "# 7가져오기\n",
    "print(arr_[1][1][0])"
   ]
  },
  {
   "cell_type": "code",
   "execution_count": null,
   "metadata": {},
   "outputs": [
    {
     "name": "stdout",
     "output_type": "stream",
     "text": [
      "1\n",
      "4\n",
      "7\n"
     ]
    }
   ],
   "source": [
    "arr_ = np.array([[[1,2],[3,4]],[[5,6],[7,8]]])\n",
    "# 1가져오기\n",
    "print(arr_[0,0,0])\n",
    "# 4가져오기\n",
    "print(arr_[0,1,1])\n",
    "# 7가져오기\n",
    "print(arr_[1,1,0])"
   ]
  },
  {
   "cell_type": "markdown",
   "id": "0f6f8da7",
   "metadata": {},
   "source": [
    "### 배열 인덱싱"
   ]
  },
  {
   "cell_type": "code",
   "execution_count": null,
   "id": "f6cad65e",
   "metadata": {},
   "outputs": [
    {
     "name": "stdout",
     "output_type": "stream",
     "text": [
      "[[1 2]]\n",
      "[[1 2]\n",
      " [5 6]]\n",
      "[[1 2]\n",
      " [3 4]]\n",
      "2\n",
      "[1 4 5]\n",
      "[2 2]\n"
     ]
    }
   ],
   "source": [
    "arr_1 = np.array([[1,2], \n",
    "                  [3,4], \n",
    "                  [5,6]])\n",
    "\n",
    "# 0 행 가져와서 2차원 배열 만들기\n",
    "#  ndarray[[row1, row2], col]\n",
    "print(arr_1[[0]])\n",
    "\n",
    "# 0,2 행 가져와서 2차원 배열 만들기\n",
    "print(arr_1[[0,2]])\n",
    "\n",
    "# 0,1 행 가져와서 2차원 배열 만들기(col :)\n",
    "print(arr_1[[0,1],:])\n",
    "print(arr_1[0,1])\n",
    "\n",
    "# 다음 결과는 ?\n",
    "print(arr_1[[0,1,2],[0,1,0]])  # row1,col1 = 0,0 /row2, col2 = 1,1 / row3, col3 = 2,0\n",
    "\n",
    "# 같은 위치 데이터 여러 번 사용가능\n",
    "print(arr_1[[0,0],[1,1]])"
   ]
  },
  {
   "cell_type": "code",
   "execution_count": null,
   "id": "49e826c3",
   "metadata": {},
   "outputs": [
    {
     "name": "stdout",
     "output_type": "stream",
     "text": [
      "[ 1  6  7 11]\n"
     ]
    }
   ],
   "source": [
    "arr_2 = np.array([[1,2,3],\n",
    "                  [4,5,6],\n",
    "                  [7,8,9],\n",
    "                  [10,11,12]])\n",
    "\n",
    "b = np.array([0,1,2,3])\n",
    "c = np.array([0,2,0,1])\n",
    "\n",
    "print(arr_2[b,c])"
   ]
  },
  {
   "cell_type": "markdown",
   "id": "1f73659b",
   "metadata": {},
   "source": [
    "### Boolean 인덱싱"
   ]
  },
  {
   "cell_type": "code",
   "execution_count": null,
   "id": "131a75a0",
   "metadata": {},
   "outputs": [],
   "source": [
    "import numpy as np"
   ]
  },
  {
   "cell_type": "code",
   "execution_count": null,
   "id": "d1b13083",
   "metadata": {},
   "outputs": [
    {
     "name": "stdout",
     "output_type": "stream",
     "text": [
      "[1 3 4]\n",
      "[4 5]\n"
     ]
    },
    {
     "data": {
      "text/plain": [
       "array([3])"
      ]
     },
     "execution_count": 25,
     "metadata": {},
     "output_type": "execute_result"
    }
   ],
   "source": [
    "arr = np.array([1,2,3,4,5])\n",
    "\n",
    "print(arr[[True,False,True,True,False]])\n",
    "print(arr[arr > 3])\n",
    "arr[arr % 3 == 0]"
   ]
  },
  {
   "cell_type": "code",
   "execution_count": null,
   "id": "88b3d622",
   "metadata": {},
   "outputs": [
    {
     "name": "stdout",
     "output_type": "stream",
     "text": [
      "[91 93]\n",
      "[96 91]\n"
     ]
    }
   ],
   "source": [
    "score = np.array([[78, 91, 84, 89, 93, 65],\n",
    "                  [82, 87, 96, 79, 91, 73]])\n",
    "\n",
    "print(score[0][score[0] >= 90])\n",
    "print(score[1][score[1] >= 90])"
   ]
  },
  {
   "cell_type": "code",
   "execution_count": null,
   "id": "f7fa1a88",
   "metadata": {},
   "outputs": [
    {
     "data": {
      "text/plain": [
       "array([False, False,  True, False,  True, False])"
      ]
     },
     "execution_count": 27,
     "metadata": {},
     "output_type": "execute_result"
    }
   ],
   "source": [
    "score[1] >= 90"
   ]
  }
 ],
 "metadata": {
  "interpreter": {
   "hash": "38ae1ba9371524da054e8e3fbefd778d16b5a8ac7937a3f395010f627bb73919"
  },
  "kernelspec": {
   "display_name": "Python 3.9.12 64-bit",
   "language": "python",
   "name": "python3"
  },
  "language_info": {
   "codemirror_mode": {
    "name": "ipython",
    "version": 3
   },
   "file_extension": ".py",
   "mimetype": "text/x-python",
   "name": "python",
   "nbconvert_exporter": "python",
   "pygments_lexer": "ipython3",
   "version": "3.9.12"
  }
 },
 "nbformat": 4,
 "nbformat_minor": 5
}
