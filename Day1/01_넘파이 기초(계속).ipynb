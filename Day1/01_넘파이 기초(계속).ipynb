{
 "cells": [
  {
   "cell_type": "markdown",
   "id": "e4a25032",
   "metadata": {},
   "source": [
    "### 배열 슬라이싱\n",
    "#### ndarray의 슬라이싱"
   ]
  },
  {
   "cell_type": "code",
   "execution_count": 64,
   "id": "dc19d6ab",
   "metadata": {},
   "outputs": [],
   "source": [
    "import numpy as np"
   ]
  },
  {
   "cell_type": "code",
   "execution_count": 65,
   "id": "51a98d4d",
   "metadata": {},
   "outputs": [
    {
     "data": {
      "text/plain": [
       "array([[ 1,  2,  3,  4,  5],\n",
       "       [ 6,  7,  8,  9, 10],\n",
       "       [11, 12, 13, 14, 15],\n",
       "       [16, 17, 18, 19, 20]])"
      ]
     },
     "execution_count": 65,
     "metadata": {},
     "output_type": "execute_result"
    }
   ],
   "source": [
    "matrix = np.array([[1,2,3,4,5],\n",
    "                   [6,7,8,9,10],\n",
    "                   [11,12,13,14,15],\n",
    "                   [16,17,18,19,20]])\n",
    "matrix"
   ]
  },
  {
   "cell_type": "code",
   "execution_count": 66,
   "id": "c87b50b9",
   "metadata": {},
   "outputs": [
    {
     "name": "stdout",
     "output_type": "stream",
     "text": [
      "[ 1  6 11 16]\n"
     ]
    }
   ],
   "source": [
    "#matrix[row,col]\n",
    "# 0열 전체 슬라이싱\n",
    "print(matrix[:,0])"
   ]
  },
  {
   "cell_type": "code",
   "execution_count": 67,
   "id": "2f2d1fa0",
   "metadata": {},
   "outputs": [
    {
     "name": "stdout",
     "output_type": "stream",
     "text": [
      "[[ 1]\n",
      " [ 6]\n",
      " [11]\n",
      " [16]]\n",
      "[[ 1]\n",
      " [ 6]\n",
      " [11]\n",
      " [16]]\n"
     ]
    }
   ],
   "source": [
    "# 0열 전체 슬라이싱(2차원 유지)\n",
    "print(matrix[:,[0]])\n",
    "print(matrix[:,:1])"
   ]
  },
  {
   "cell_type": "code",
   "execution_count": 68,
   "id": "5e486ab1",
   "metadata": {},
   "outputs": [
    {
     "name": "stdout",
     "output_type": "stream",
     "text": [
      "[ 6  7  8  9 10]\n",
      "[ 6  7  8  9 10]\n",
      "[[ 6  7  8  9 10]]\n",
      "[[ 6  7  8  9 10]]\n"
     ]
    }
   ],
   "source": [
    "# 1행 전체 슬라이싱\n",
    "print(matrix[1,:])\n",
    "\n",
    "print(matrix[1]) # rank > row > col 순으로 :(콜론) 생략 가능\n",
    "\n",
    "print(matrix[1:2,:]) # or print(matrix[[1]])\n",
    "\n",
    "print(matrix[[1]])"
   ]
  },
  {
   "cell_type": "code",
   "execution_count": 69,
   "id": "69b982c6",
   "metadata": {},
   "outputs": [
    {
     "name": "stdout",
     "output_type": "stream",
     "text": [
      "[[ 4  5]\n",
      " [ 9 10]\n",
      " [14 15]\n",
      " [19 20]]\n"
     ]
    }
   ],
   "source": [
    "# 3~4열 전체 슬라이싱\n",
    "print(matrix[:,3:])"
   ]
  },
  {
   "cell_type": "code",
   "execution_count": 70,
   "id": "8596f710",
   "metadata": {},
   "outputs": [
    {
     "name": "stdout",
     "output_type": "stream",
     "text": [
      "[2 3 4]\n",
      "[2 3 4]\n"
     ]
    }
   ],
   "source": [
    "# 0행 1~3열 슬라이싱\n",
    "print(matrix[0,1:4])\n",
    "print(matrix[0,1:-1])"
   ]
  },
  {
   "cell_type": "code",
   "execution_count": 71,
   "id": "8573f640",
   "metadata": {},
   "outputs": [
    {
     "name": "stdout",
     "output_type": "stream",
     "text": [
      "[[ 8  9 10]\n",
      " [18 19 20]]\n"
     ]
    }
   ],
   "source": [
    "# 1,3행 2~4열 슬라이싱\n",
    "print(matrix[[1,3],2:])"
   ]
  },
  {
   "cell_type": "code",
   "execution_count": 72,
   "id": "993c268c",
   "metadata": {},
   "outputs": [
    {
     "name": "stdout",
     "output_type": "stream",
     "text": [
      "[[ 7  9]\n",
      " [12 14]]\n"
     ]
    }
   ],
   "source": [
    "# 1~2행, 1,3열 슬라이싱\n",
    "print(matrix[1:-1,[1,3]])"
   ]
  },
  {
   "cell_type": "code",
   "execution_count": 73,
   "id": "b8abb7e7",
   "metadata": {},
   "outputs": [],
   "source": [
    "#문제 3\n",
    "tensor = np.array([[[1,2,3],\n",
    "                   [4,5,6]],\n",
    "                   [[7,8,9],\n",
    "                   [10,11,12]]])"
   ]
  },
  {
   "cell_type": "code",
   "execution_count": 74,
   "id": "0f208508",
   "metadata": {},
   "outputs": [
    {
     "name": "stdout",
     "output_type": "stream",
     "text": [
      "[10  2  6]\n"
     ]
    },
    {
     "data": {
      "text/plain": [
       "array([[[ 1,  2,  3],\n",
       "        [ 4,  5,  6]],\n",
       "\n",
       "       [[ 7,  8,  9],\n",
       "        [10, 11, 12]]])"
      ]
     },
     "execution_count": 74,
     "metadata": {},
     "output_type": "execute_result"
    }
   ],
   "source": [
    "# 위와 같은 2x2x3 형태의 3차원 배열을 생성하고 인덱싱을 사용해 [10 2 6] 배열을 추출해봅시다.\n",
    "print(tensor[[1,0,0],[1,0,1],[0,1,2]])\n",
    "tensor"
   ]
  },
  {
   "cell_type": "code",
   "execution_count": 75,
   "id": "4f316ec8",
   "metadata": {},
   "outputs": [
    {
     "name": "stdout",
     "output_type": "stream",
     "text": [
      "[[1 2]\n",
      " [4 5]]\n"
     ]
    }
   ],
   "source": [
    "# 문제3의 tensor 배열에서 인덱싱, 슬라이싱을 사용해 [12/45], [9/12]\n",
    "#12/45\n",
    "print(tensor[0,:,:2])"
   ]
  },
  {
   "cell_type": "code",
   "execution_count": 76,
   "id": "f323908f",
   "metadata": {},
   "outputs": [
    {
     "name": "stdout",
     "output_type": "stream",
     "text": [
      "[ 9 12]\n"
     ]
    }
   ],
   "source": [
    "#[9,12]\n",
    "print(tensor[1,:,2])"
   ]
  }
 ],
 "metadata": {
  "interpreter": {
   "hash": "38ae1ba9371524da054e8e3fbefd778d16b5a8ac7937a3f395010f627bb73919"
  },
  "kernelspec": {
   "display_name": "Python 3.9.12 64-bit",
   "language": "python",
   "name": "python3"
  },
  "language_info": {
   "codemirror_mode": {
    "name": "ipython",
    "version": 3
   },
   "file_extension": ".py",
   "mimetype": "text/x-python",
   "name": "python",
   "nbconvert_exporter": "python",
   "pygments_lexer": "ipython3",
   "version": "3.9.12"
  }
 },
 "nbformat": 4,
 "nbformat_minor": 5
}
