{
 "cells": [
  {
   "cell_type": "markdown",
   "metadata": {},
   "source": [
    "# Numpy 배열 연산"
   ]
  },
  {
   "cell_type": "code",
   "execution_count": 2,
   "metadata": {},
   "outputs": [],
   "source": [
    "import numpy as np"
   ]
  },
  {
   "cell_type": "code",
   "execution_count": 3,
   "metadata": {},
   "outputs": [
    {
     "name": "stdout",
     "output_type": "stream",
     "text": [
      "[1, 2, 3, 4, 5, 6]\n"
     ]
    }
   ],
   "source": [
    "list1 = [1,2,3]\n",
    "list2 = [4,5,6]\n",
    "print(list1 + list2)"
   ]
  },
  {
   "cell_type": "code",
   "execution_count": 4,
   "metadata": {},
   "outputs": [
    {
     "name": "stdout",
     "output_type": "stream",
     "text": [
      "[5 7 9]\n"
     ]
    }
   ],
   "source": [
    "arr1 = np.array([1,2,3])\n",
    "arr2 = np.array([4,5,6])\n",
    "print(arr1 + arr2)"
   ]
  },
  {
   "cell_type": "markdown",
   "metadata": {},
   "source": [
    "### 산술연산\n",
    "- shape이 같은 배열은 연산 가능"
   ]
  },
  {
   "cell_type": "code",
   "execution_count": 15,
   "metadata": {},
   "outputs": [
    {
     "name": "stdout",
     "output_type": "stream",
     "text": [
      "[[12. 14. 16.]\n",
      " [18. 20. 22.]]\n",
      "[[-10. -10. -10.]\n",
      " [-10. -10. -10.]]\n",
      "[[11. 24. 39.]\n",
      " [56. 75. 96.]]\n",
      "[[11.         6.         4.3333335]\n",
      " [ 3.5        3.         2.6666667]]\n"
     ]
    }
   ],
   "source": [
    "# 모양이 같은 배열 연산\n",
    "arr1 = np.arange(1,7,dtype=np.float32).reshape(2,3)\n",
    "arr2 = np.arange(11,17,dtype=np.float32).reshape(2,3)\n",
    "print(arr1 + arr2) \n",
    "print(arr1 - arr2)\n",
    "print(arr1 * arr2)\n",
    "print(arr2 / arr1)  "
   ]
  },
  {
   "cell_type": "code",
   "execution_count": 16,
   "metadata": {},
   "outputs": [
    {
     "name": "stdout",
     "output_type": "stream",
     "text": [
      "[[1.0000000e+00 4.0960000e+03 1.5943230e+06]\n",
      " [2.6843546e+08 3.0517578e+10 2.8211098e+12]]\n",
      "[[11.  6.  4.]\n",
      " [ 3.  3.  2.]]\n",
      "[[0. 0. 1.]\n",
      " [2. 0. 4.]]\n"
     ]
    }
   ],
   "source": [
    "print(arr1 ** arr2) # 제곱\n",
    "print(arr2 // arr1) # 몫\n",
    "print(arr2 % arr1)  # 나머지"
   ]
  },
  {
   "cell_type": "markdown",
   "metadata": {},
   "source": [
    "### Numpy 연산 함수"
   ]
  },
  {
   "cell_type": "code",
   "execution_count": 29,
   "metadata": {},
   "outputs": [
    {
     "name": "stdout",
     "output_type": "stream",
     "text": [
      "[[1. 2. 3.]\n",
      " [4. 5. 6.]] [[11. 12. 13.]\n",
      " [14. 15. 16.]]\n",
      "[[12. 14. 16.]\n",
      " [18. 20. 22.]]\n",
      "[[-10. -10. -10.]\n",
      " [-10. -10. -10.]]\n",
      "[[-10. -10. -10.]\n",
      " [-10. -10. -10.]]\n",
      "[[11. 24. 39.]\n",
      " [56. 75. 96.]]\n",
      "[[11. 24. 39.]\n",
      " [56. 75. 96.]]\n",
      "[[11.         6.         4.3333335]\n",
      " [ 3.5        3.         2.6666667]]\n",
      "[[0.09090909 0.16666667 0.23076923]\n",
      " [0.2857143  0.33333334 0.375     ]]\n"
     ]
    }
   ],
   "source": [
    "# np.add(arr1,arr2)\n",
    "np.add(arr1,arr2)\n",
    "print(arr1,arr2)\n",
    "print(np.add(arr1,arr2))\n",
    "\n",
    "\n",
    "# np.subtract(arr1, arr2)\n",
    "print(arr1 - arr2)\n",
    "print(np.subtract(arr1, arr2))\n",
    "\n",
    "# np.multiply(arr1, arr2)\n",
    "print(arr1 * arr2)\n",
    "print(np.multiply(arr1, arr2))\n",
    "\n",
    "# np.divide(arr1, arr2)\n",
    "print(arr2/arr1)\n",
    "print(np.divide(arr1,arr2))"
   ]
  },
  {
   "cell_type": "markdown",
   "metadata": {},
   "source": [
    "### 산술연산\n",
    "- Broadcasting\n",
    "\n",
    "- 연산하고자 하는 배열의 모양이 다른 경우의 연산"
   ]
  },
  {
   "cell_type": "code",
   "execution_count": 27,
   "metadata": {},
   "outputs": [
    {
     "ename": "ValueError",
     "evalue": "operands could not be broadcast together with shapes (5,2) (2,5) ",
     "output_type": "error",
     "traceback": [
      "\u001b[1;31m---------------------------------------------------------------------------\u001b[0m",
      "\u001b[1;31mValueError\u001b[0m                                Traceback (most recent call last)",
      "\u001b[1;32mc:\\STUDY\\SutdyPython_Numpy\\Day2\\03_넘파이 배열 연산.ipynb Cell 11'\u001b[0m in \u001b[0;36m<cell line: 3>\u001b[1;34m()\u001b[0m\n\u001b[0;32m      <a href='vscode-notebook-cell:/c%3A/STUDY/SutdyPython_Numpy/Day2/03_%EB%84%98%ED%8C%8C%EC%9D%B4%20%EB%B0%B0%EC%97%B4%20%EC%97%B0%EC%82%B0.ipynb#ch0000016?line=0'>1</a>\u001b[0m arr3 \u001b[39m=\u001b[39m np\u001b[39m.\u001b[39marange(\u001b[39m10\u001b[39m)\u001b[39m.\u001b[39mreshape(\u001b[39m5\u001b[39m,\u001b[39m2\u001b[39m)\n\u001b[0;32m      <a href='vscode-notebook-cell:/c%3A/STUDY/SutdyPython_Numpy/Day2/03_%EB%84%98%ED%8C%8C%EC%9D%B4%20%EB%B0%B0%EC%97%B4%20%EC%97%B0%EC%82%B0.ipynb#ch0000016?line=1'>2</a>\u001b[0m arr4 \u001b[39m=\u001b[39m np\u001b[39m.\u001b[39marange(\u001b[39m10\u001b[39m)\u001b[39m.\u001b[39mreshape(\u001b[39m2\u001b[39m,\u001b[39m5\u001b[39m)\n\u001b[1;32m----> <a href='vscode-notebook-cell:/c%3A/STUDY/SutdyPython_Numpy/Day2/03_%EB%84%98%ED%8C%8C%EC%9D%B4%20%EB%B0%B0%EC%97%B4%20%EC%97%B0%EC%82%B0.ipynb#ch0000016?line=2'>3</a>\u001b[0m \u001b[39mprint\u001b[39m(arr3 \u001b[39m+\u001b[39;49m arr4)\n",
      "\u001b[1;31mValueError\u001b[0m: operands could not be broadcast together with shapes (5,2) (2,5) "
     ]
    }
   ],
   "source": [
    "arr3 = np.arange(10).reshape(5,2)\n",
    "arr4 = np.arange(10).reshape(2,5)\n",
    "print(arr3 + arr4)"
   ]
  },
  {
   "cell_type": "code",
   "execution_count": 32,
   "metadata": {},
   "outputs": [
    {
     "name": "stdout",
     "output_type": "stream",
     "text": [
      "[11 12 13]\n",
      "[9 8 7]\n",
      "[10 20 30]\n",
      "[10.          5.          3.33333333]\n"
     ]
    }
   ],
   "source": [
    "# Broadcasting : shape이 다른 배열 간 연산 지원\n",
    "# 배열과 스칼라의 연산\n",
    "scalar = 10\n",
    "vector = np.array([1,2,3])\n",
    "print(scalar + vector)\n",
    "print(scalar - vector)\n",
    "print(scalar * vector)\n",
    "print(scalar / vector)"
   ]
  },
  {
   "cell_type": "code",
   "execution_count": 35,
   "metadata": {},
   "outputs": [
    {
     "name": "stdout",
     "output_type": "stream",
     "text": [
      "[[11 12 13]\n",
      " [14 15 16]]\n",
      "[[9 8 7]\n",
      " [6 5 4]]\n",
      "[[10 20 30]\n",
      " [40 50 60]]\n",
      "[[10.          5.          3.33333333]\n",
      " [ 2.5         2.          1.66666667]]\n",
      "[[10  5  3]\n",
      " [ 2  2  1]]\n",
      "[[0 0 1]\n",
      " [2 0 4]]\n"
     ]
    }
   ],
   "source": [
    "scalar = 10\n",
    "matrix = np.array([[1,2,3],[4,5,6]])\n",
    "print(scalar + matrix)\n",
    "print(scalar - matrix)\n",
    "print(scalar * matrix)\n",
    "print(scalar / matrix)\n",
    "print(scalar // matrix)\n",
    "print(scalar % matrix)"
   ]
  },
  {
   "cell_type": "code",
   "execution_count": 45,
   "metadata": {},
   "outputs": [
    {
     "name": "stdout",
     "output_type": "stream",
     "text": [
      "[[1 2 3]\n",
      " [4 5 6]\n",
      " [7 8 9]]\n",
      "[[11 12 13]]\n",
      "[[12 14 16]\n",
      " [15 17 19]\n",
      " [18 20 22]]\n"
     ]
    }
   ],
   "source": [
    "# 벡터와 매트릭스의 연산\n",
    "matrix = np.arange(1,10).reshape(3,3)\n",
    "vector = np.arange(11,14).reshape(1,3)\n",
    "print(matrix)\n",
    "print(vector)\n",
    "print(matrix + vector)"
   ]
  },
  {
   "cell_type": "code",
   "execution_count": 46,
   "metadata": {},
   "outputs": [
    {
     "name": "stdout",
     "output_type": "stream",
     "text": [
      "[[1 2 3]\n",
      " [4 5 6]\n",
      " [7 8 9]]\n",
      "[[11]\n",
      " [12]\n",
      " [13]]\n",
      "[[12 13 14]\n",
      " [16 17 18]\n",
      " [20 21 22]]\n"
     ]
    }
   ],
   "source": [
    "matrix = np.arange(1,10).reshape(3,3)\n",
    "vector = np.arange(11,14).reshape(3,1)\n",
    "print(matrix)\n",
    "print(vector)\n",
    "print(matrix + vector)"
   ]
  },
  {
   "cell_type": "code",
   "execution_count": 50,
   "metadata": {},
   "outputs": [
    {
     "name": "stdout",
     "output_type": "stream",
     "text": [
      "[1 2 3]\n",
      "[[1]\n",
      " [2]\n",
      " [3]]\n",
      "[[2 3 4]\n",
      " [3 4 5]\n",
      " [4 5 6]]\n"
     ]
    }
   ],
   "source": [
    "# 벡터와 벡터의 브로드캐스팅 연산\n",
    "arr1 = np.array([1,2,3])\n",
    "arr2 = np.array([1,2,3]).reshape(3,1)\n",
    "print(arr1)\n",
    "print(arr2)\n",
    "\n",
    "print(arr1 + arr2)"
   ]
  },
  {
   "cell_type": "code",
   "execution_count": 51,
   "metadata": {},
   "outputs": [
    {
     "data": {
      "text/plain": [
       "<numpy.broadcast at 0x2aa8c1d8c80>"
      ]
     },
     "execution_count": 51,
     "metadata": {},
     "output_type": "execute_result"
    }
   ],
   "source": [
    "np.broadcast(arr1, arr2)"
   ]
  },
  {
   "cell_type": "code",
   "execution_count": 53,
   "metadata": {},
   "outputs": [
    {
     "data": {
      "text/plain": [
       "<numpy.broadcast at 0x2aa8c1d8380>"
      ]
     },
     "execution_count": 53,
     "metadata": {},
     "output_type": "execute_result"
    }
   ],
   "source": [
    "arr3 = np.array([1,2,3])\n",
    "arr4 = np.array([4,5,6])\n",
    "\n",
    "np.broadcast(arr3, arr4)"
   ]
  },
  {
   "cell_type": "markdown",
   "metadata": {},
   "source": [
    "### 행렬 연산\n",
    "- 수학에서의 행렬의 곱셈\n",
    "- np.dot(arr1, arr2) 함수 사용"
   ]
  },
  {
   "cell_type": "code",
   "execution_count": 56,
   "metadata": {},
   "outputs": [
    {
     "name": "stdout",
     "output_type": "stream",
     "text": [
      "[1 4 9]\n",
      "14\n"
     ]
    }
   ],
   "source": [
    "# 일반적인 행렬곱\n",
    "arr1 = np.array([1,2,3])\n",
    "arr2 = np.array([1,2,3])\n",
    "print(arr1 * arr2)\n",
    "\n",
    "# bp.dot 사용 행렬곱\n",
    "arr1 = np.array([1,2,3])\n",
    "arr2 = np.array([1,2,3]).T\n",
    "print(np.dot(arr1, arr2))   "
   ]
  },
  {
   "cell_type": "code",
   "execution_count": 60,
   "metadata": {},
   "outputs": [
    {
     "name": "stdout",
     "output_type": "stream",
     "text": [
      "14\n",
      "14\n",
      "14\n"
     ]
    }
   ],
   "source": [
    "# np.dot(arr1,arr2) 함수\n",
    "\n",
    "# np.dot(arr1,arr2)\n",
    "print(np.dot(arr1,arr2))\n",
    "# arr1.dot(arr2)\n",
    "print(arr1.dot(arr2))\n",
    "# arr1@arr2\n",
    "print(arr1@arr2)"
   ]
  },
  {
   "cell_type": "code",
   "execution_count": 59,
   "metadata": {},
   "outputs": [
    {
     "name": "stdout",
     "output_type": "stream",
     "text": [
      "[[ 82  88]\n",
      " [199 214]]\n"
     ]
    }
   ],
   "source": [
    "# 2차원 배열 행렬곱\n",
    "arr3 = np.arange(1,7).reshape(2,3)\n",
    "arr4 = np.arange(11,17).reshape(3,2)\n",
    "print(np.dot(arr3,arr4))"
   ]
  }
 ],
 "metadata": {
  "interpreter": {
   "hash": "38ae1ba9371524da054e8e3fbefd778d16b5a8ac7937a3f395010f627bb73919"
  },
  "kernelspec": {
   "display_name": "Python 3.9.12 64-bit",
   "language": "python",
   "name": "python3"
  },
  "language_info": {
   "codemirror_mode": {
    "name": "ipython",
    "version": 3
   },
   "file_extension": ".py",
   "mimetype": "text/x-python",
   "name": "python",
   "nbconvert_exporter": "python",
   "pygments_lexer": "ipython3",
   "version": "3.9.12"
  },
  "orig_nbformat": 4
 },
 "nbformat": 4,
 "nbformat_minor": 2
}
